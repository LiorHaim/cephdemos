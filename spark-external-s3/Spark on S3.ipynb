{
 "cells": [
  {
   "cell_type": "markdown",
   "metadata": {},
   "source": [
    "## Run Spark queries on an S3-based Ceph external cluster "
   ]
  },
  {
   "cell_type": "code",
   "execution_count": 19,
   "metadata": {},
   "outputs": [],
   "source": [
    "### Test your Spark cluster connectivity "
   ]
  },
  {
   "cell_type": "code",
   "execution_count": 111,
   "metadata": {},
   "outputs": [
    {
     "data": {
      "text/plain": [
       "['spark-cluster-kube-admin-w-wb54g', 'spark-cluster-kube-admin-w-x5zn9']"
      ]
     },
     "execution_count": 111,
     "metadata": {},
     "output_type": "execute_result"
    }
   ],
   "source": [
    "from pyspark.sql import SparkSession, SQLContext\n",
    "import os\n",
    "import socket\n",
    "\n",
    "# create a spark session\n",
    "spark_cluster_url = f\"spark://{os.environ['SPARK_CLUSTER']}:7077\"\n",
    "spark = SparkSession.builder.master(spark_cluster_url).getOrCreate()\n",
    "\n",
    "# test your spark connection\n",
    "spark.range(5, numPartitions=5).rdd.map(lambda x: socket.gethostname()).distinct().collect()"
   ]
  },
  {
   "cell_type": "code",
   "execution_count": 18,
   "metadata": {},
   "outputs": [],
   "source": [
    "#### Run a Spark query and pull the uploaded CSV to exclude the data"
   ]
  },
  {
   "cell_type": "code",
   "execution_count": 112,
   "metadata": {},
   "outputs": [
    {
     "name": "stdout",
     "output_type": "stream",
     "text": [
      "Requirement already satisfied: wget in /opt/app-root/lib/python3.6/site-packages (3.2)\n",
      "\u001b[33mWARNING: You are using pip version 19.2.1, however version 20.2.3 is available.\n",
      "You should consider upgrading via the 'pip install --upgrade pip' command.\u001b[0m\n"
     ]
    }
   ],
   "source": [
    "# Create a configuration for a S3 connection towards Ceph RGW\n",
    "s3_region = 'us-east-1' # fill in for AWS, blank for Ceph\n",
    "s3_endpoint_url = 'http://10.32.0.3:8080'\n",
    "s3_access_key_id = '2KESHB41KITLKHU44BNS'\n",
    "s3_secret_access_key = 'DgArbbUCYfIxnZB9UFx3jop5mpvDxlrudQ7SJcXM'\n",
    "s3_bucket = 'spark-bucket-1143d1c8-e321-496a-821c-9c1b89297685'\n",
    "\n",
    "# for easy download\n",
    "!pip install wget\n",
    "\n",
    "import wget\n",
    "import boto3\n",
    "\n",
    "# configure boto S3 connection\n",
    "s3 = boto3.client('s3',\n",
    "                  s3_region,\n",
    "                  endpoint_url = s3_endpoint_url,\n",
    "                  aws_access_key_id = s3_access_key_id,\n",
    "                  aws_secret_access_key = s3_secret_access_key)\n",
    "\n",
    "# download the sample data file\n",
    "url = \"https://people.sc.fsu.edu/~jburkardt/data/csv/grades.csv\"\n",
    "file = wget.download(url=url, out='sample_data.csv')\n",
    "\n",
    "#upload the file to storage\n",
    "s3.upload_file(file, s3_bucket, \"sample_data.csv\")"
   ]
  },
  {
   "cell_type": "code",
   "execution_count": 113,
   "metadata": {},
   "outputs": [],
   "source": [
    "#### Create you Spark s3a based configuration and run the query "
   ]
  },
  {
   "cell_type": "code",
   "execution_count": 114,
   "metadata": {},
   "outputs": [
    {
     "data": {
      "text/html": [
       "<div>\n",
       "<style scoped>\n",
       "    .dataframe tbody tr th:only-of-type {\n",
       "        vertical-align: middle;\n",
       "    }\n",
       "\n",
       "    .dataframe tbody tr th {\n",
       "        vertical-align: top;\n",
       "    }\n",
       "\n",
       "    .dataframe thead th {\n",
       "        text-align: right;\n",
       "    }\n",
       "</style>\n",
       "<table border=\"1\" class=\"dataframe\">\n",
       "  <thead>\n",
       "    <tr style=\"text-align: right;\">\n",
       "      <th></th>\n",
       "      <th>Last name</th>\n",
       "      <th>\"First name\"</th>\n",
       "      <th>\"SSN\"</th>\n",
       "      <th>\"Test1\"</th>\n",
       "      <th>\"Test2\"</th>\n",
       "      <th>\"Test3\"</th>\n",
       "      <th>\"Test4\"</th>\n",
       "      <th>\"Final\"</th>\n",
       "      <th>\"Grade\"</th>\n",
       "    </tr>\n",
       "  </thead>\n",
       "  <tbody>\n",
       "    <tr>\n",
       "      <th>0</th>\n",
       "      <td>Alfalfa</td>\n",
       "      <td>\"Aloysius\"</td>\n",
       "      <td>\"123-45-6789\"</td>\n",
       "      <td>40.0</td>\n",
       "      <td>90.0</td>\n",
       "      <td>100.0</td>\n",
       "      <td>83.0</td>\n",
       "      <td>49.0</td>\n",
       "      <td>\"D-\"</td>\n",
       "    </tr>\n",
       "    <tr>\n",
       "      <th>1</th>\n",
       "      <td>Alfred</td>\n",
       "      <td>\"University\"</td>\n",
       "      <td>\"123-12-1234\"</td>\n",
       "      <td>41.0</td>\n",
       "      <td>97.0</td>\n",
       "      <td>96.0</td>\n",
       "      <td>97.0</td>\n",
       "      <td>48.0</td>\n",
       "      <td>\"D+\"</td>\n",
       "    </tr>\n",
       "    <tr>\n",
       "      <th>2</th>\n",
       "      <td>Gerty</td>\n",
       "      <td>\"Gramma\"</td>\n",
       "      <td>\"567-89-0123\"</td>\n",
       "      <td>41.0</td>\n",
       "      <td>80.0</td>\n",
       "      <td>60.0</td>\n",
       "      <td>40.0</td>\n",
       "      <td>44.0</td>\n",
       "      <td>\"C\"</td>\n",
       "    </tr>\n",
       "    <tr>\n",
       "      <th>3</th>\n",
       "      <td>Android</td>\n",
       "      <td>\"Electric\"</td>\n",
       "      <td>\"087-65-4321\"</td>\n",
       "      <td>42.0</td>\n",
       "      <td>23.0</td>\n",
       "      <td>36.0</td>\n",
       "      <td>45.0</td>\n",
       "      <td>47.0</td>\n",
       "      <td>\"B-\"</td>\n",
       "    </tr>\n",
       "    <tr>\n",
       "      <th>4</th>\n",
       "      <td>Bumpkin</td>\n",
       "      <td>\"Fred\"</td>\n",
       "      <td>\"456-78-9012\"</td>\n",
       "      <td>43.0</td>\n",
       "      <td>78.0</td>\n",
       "      <td>88.0</td>\n",
       "      <td>77.0</td>\n",
       "      <td>45.0</td>\n",
       "      <td>\"A-\"</td>\n",
       "    </tr>\n",
       "  </tbody>\n",
       "</table>\n",
       "</div>"
      ],
      "text/plain": [
       "  Last name      \"First name\"                 \"SSN\"         \"Test1\"   \"Test2\"  \\\n",
       "0   Alfalfa        \"Aloysius\"         \"123-45-6789\"            40.0      90.0   \n",
       "1    Alfred      \"University\"         \"123-12-1234\"            41.0      97.0   \n",
       "2     Gerty          \"Gramma\"         \"567-89-0123\"            41.0      80.0   \n",
       "3   Android        \"Electric\"         \"087-65-4321\"            42.0      23.0   \n",
       "4   Bumpkin            \"Fred\"         \"456-78-9012\"            43.0      78.0   \n",
       "\n",
       "    \"Test3\"   \"Test4\"   \"Final\"  \"Grade\"  \n",
       "0     100.0      83.0      49.0     \"D-\"  \n",
       "1      96.0      97.0      48.0     \"D+\"  \n",
       "2      60.0      40.0      44.0      \"C\"  \n",
       "3      36.0      45.0      47.0     \"B-\"  \n",
       "4      88.0      77.0      45.0     \"A-\"  "
      ]
     },
     "execution_count": 114,
     "metadata": {},
     "output_type": "execute_result"
    }
   ],
   "source": [
    "# Use the above S3 values in order ro run query with Spark using the s3a connector \n",
    "hadoopConf = spark.sparkContext._jsc.hadoopConfiguration()\n",
    "hadoopConf.set(\"fs.s3a.endpoint\", s3_endpoint_url)\n",
    "hadoopConf.set(\"fs.s3a.access.key\", s3_access_key_id)\n",
    "hadoopConf.set(\"fs.s3a.secret.key\", s3_secret_access_key)\n",
    "hadoopConf.set(\"fs.s3a.path.style.access\", \"true\")\n",
    "hadoopConf.set(\"fs.s3a.connection.ssl.enabled\", \"true\") # false if not https\n",
    "\n",
    "# Print CSV values coming from the S3 bucket \n",
    "data = spark.read.csv('s3a://' + s3_bucket + '/sample_data.csv',sep=\",\", header=True)\n",
    "df = data.toPandas()\n",
    "df.head()\n"
   ]
  },
  {
   "cell_type": "code",
   "execution_count": 115,
   "metadata": {},
   "outputs": [],
   "source": [
    "# Print final grades for students, notice there is flase data here on row 8"
   ]
  },
  {
   "cell_type": "code",
   "execution_count": 120,
   "metadata": {},
   "outputs": [
    {
     "data": {
      "text/plain": [
       "0         49.0\n",
       "1         48.0\n",
       "2         44.0\n",
       "3         47.0\n",
       "4         45.0\n",
       "5         46.0\n",
       "6         43.0\n",
       "7         50.0\n",
       "8          \"A\"\n",
       "9         97.0\n",
       "10        40.0\n",
       "11        45.0\n",
       "12        77.0\n",
       "13        90.0\n",
       "14         4.0\n",
       "15        40.0\n",
       "Name:  \"Final\", dtype: object"
      ]
     },
     "execution_count": 120,
     "metadata": {},
     "output_type": "execute_result"
    }
   ],
   "source": [
    "df[' \"Final\"']"
   ]
  },
  {
   "cell_type": "code",
   "execution_count": 117,
   "metadata": {},
   "outputs": [],
   "source": [
    "# Print final grades in a plot "
   ]
  },
  {
   "cell_type": "code",
   "execution_count": 125,
   "metadata": {},
   "outputs": [
    {
     "name": "stdout",
     "output_type": "stream",
     "text": [
      "['    49.0', '    48.0', '    44.0', '    47.0', '    45.0', '    46.0', '    43.0', '    97.0', '    40.0', '    45.0', '    77.0', '    90.0', '     4.0']\n"
     ]
    }
   ],
   "source": [
    "import pandas as pd \n",
    "list_final_grades = list(df[' \"Final\"'][0:7]) + list(df[' \"Final\"'][9:15])\n",
    "print(list_final_grades)"
   ]
  },
  {
   "cell_type": "code",
   "execution_count": 126,
   "metadata": {},
   "outputs": [
    {
     "data": {
      "text/plain": [
       "<matplotlib.axes._subplots.AxesSubplot at 0x7fb84915bc88>"
      ]
     },
     "execution_count": 126,
     "metadata": {},
     "output_type": "execute_result"
    },
    {
     "data": {
      "image/png": "[encoded data removed]",
      "text/plain": [
       "<Figure size 432x288 with 1 Axes>"
      ]
     },
     "metadata": {
      "needs_background": "light"
     },
     "output_type": "display_data"
    }
   ],
   "source": [
    "pd.Series(list_final_grades).astype(float).astype(int).plot.hist()"
   ]
  },
  {
   "cell_type": "code",
   "execution_count": null,
   "metadata": {},
   "outputs": [],
   "source": []
  }
 ],
 "metadata": {
  "kernelspec": {
   "display_name": "Python 3",
   "language": "python",
   "name": "python3"
  },
  "language_info": {
   "codemirror_mode": {
    "name": "ipython",
    "version": 3
   },
   "file_extension": ".py",
   "mimetype": "text/x-python",
   "name": "python",
   "nbconvert_exporter": "python",
   "pygments_lexer": "ipython3",
   "version": "3.6.3"
  }
 },
 "nbformat": 4,
 "nbformat_minor": 2
}
